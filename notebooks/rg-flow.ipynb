{
 "cells": [
  {
   "cell_type": "code",
   "execution_count": 8,
   "id": "63c5e444-033d-40be-ab5a-64476c52f4c1",
   "metadata": {},
   "outputs": [
    {
     "ename": "ModuleNotFoundError",
     "evalue": "No module named 'scipy'",
     "output_type": "error",
     "traceback": [
      "\u001b[0;31m---------------------------------------------------------------------------\u001b[0m",
      "\u001b[0;31mModuleNotFoundError\u001b[0m                       Traceback (most recent call last)",
      "Cell \u001b[0;32mIn[8], line 2\u001b[0m\n\u001b[1;32m      1\u001b[0m \u001b[38;5;28;01mimport\u001b[39;00m \u001b[38;5;21;01mnumpy\u001b[39;00m \u001b[38;5;28;01mas\u001b[39;00m \u001b[38;5;21;01mnp\u001b[39;00m\n\u001b[0;32m----> 2\u001b[0m \u001b[38;5;28;01mfrom\u001b[39;00m \u001b[38;5;21;01mscipy\u001b[39;00m\u001b[38;5;21;01m.\u001b[39;00m\u001b[38;5;21;01moptimize\u001b[39;00m \u001b[38;5;28;01mimport\u001b[39;00m fsolve\n\u001b[1;32m      3\u001b[0m \u001b[38;5;28;01mimport\u001b[39;00m \u001b[38;5;21;01mmatplotlib\u001b[39;00m\u001b[38;5;21;01m.\u001b[39;00m\u001b[38;5;21;01mpyplot\u001b[39;00m \u001b[38;5;28;01mas\u001b[39;00m \u001b[38;5;21;01mplt\u001b[39;00m\n\u001b[1;32m      4\u001b[0m \u001b[38;5;28;01mfrom\u001b[39;00m \u001b[38;5;21;01mmatplotlib\u001b[39;00m\u001b[38;5;21;01m.\u001b[39;00m\u001b[38;5;21;01mpatches\u001b[39;00m \u001b[38;5;28;01mimport\u001b[39;00m FancyArrowPatch\n",
      "\u001b[0;31mModuleNotFoundError\u001b[0m: No module named 'scipy'"
     ]
    }
   ],
   "source": [
    "import numpy as np\n",
    "from scipy.optimize import fsolve\n",
    "import matplotlib.pyplot as plt\n",
    "from matplotlib.patches import FancyArrowPatch\n",
    "\n",
    "def compute_average_S(K, n, b=3):\n",
    "    exp = np.exp\n",
    "    W3 = exp(2 * K + K / (2 ** n))  # +++ config\n",
    "    W1a = exp(-K / (2 ** n))        # ++- or -++ configs\n",
    "    W1b = exp(-2 * K + K / (2 ** n))  # +-+ config\n",
    "    Z = W3 + 2 * W1a + W1b\n",
    "    S_weighted = 3 * W3 + 1 * (2 * W1a + W1b)\n",
    "    average_S = S_weighted / Z\n",
    "    return average_S\n",
    "\n",
    "def rg_step(K, n, b=3):\n",
    "    avg_S = compute_average_S(K, n, b)\n",
    "    K_next = K * (avg_S ** 2) / (b ** n)\n",
    "    return K_next\n",
    "\n",
    "def find_fixed_point(n, b=3, guess=1.0):\n",
    "    # Solve for K where <S>(K,n)^2 == b**n (non-trivial fixed point)\n",
    "    def equation(K):\n",
    "        return compute_average_S(K, n, b)**2 - b**n\n",
    "    \n",
    "    # Check if possible: max <S>^2 =9, so if b**n >9, no solution\n",
    "    if b**n > 9:\n",
    "        return None\n",
    "    K_c, = fsolve(equation, guess)\n",
    "    if K_c > 0 and abs(equation(K_c)) < 1e-6:\n",
    "        return K_c\n",
    "    return None\n",
    "\n",
    "def plot_rg_flow(n, K_min=0, K_max=2, num_points=20, arrow_length=0.1, b=3):\n",
    "    fig, ax = plt.subplots(figsize=(10, 2))\n",
    "    ax.plot([K_min, K_max], [0, 0], 'k-', linewidth=2)  # Axis line\n",
    "    ax.set_xlim(K_min, K_max)\n",
    "    ax.set_ylim(-1, 1)\n",
    "    ax.set_yticks([])\n",
    "    ax.set_xlabel('K')\n",
    "    ax.set_title(f'RG Flow for n={n}')\n",
    "    \n",
    "    # Find critical point\n",
    "    K_c = find_fixed_point(n, b)\n",
    "    if K_c is not None:\n",
    "        ax.plot(K_c, 0, 'r*', markersize=15, label='Critical Point')\n",
    "    \n",
    "    # Sample points and draw arrows\n",
    "    K_samples = np.linspace(K_min + 0.05, K_max - 0.05, num_points)\n",
    "    for K in K_samples:\n",
    "        K_next = rg_step(K, n, b)\n",
    "        direction = np.sign(K_next - K)\n",
    "        if direction == 0:\n",
    "            continue  # Fixed point, no arrow\n",
    "        arrow_style = \"->\" if direction > 0 else \"<-\"\n",
    "        ax.add_patch(FancyArrowPatch((K, 0), (K + direction * arrow_length, 0),\n",
    "                                     arrowstyle=arrow_style, mutation_scale=20, color='blue'))\n",
    "    \n",
    "    if K_c is not None:\n",
    "        ax.legend()\n",
    "    plt.show()\n",
    "\n",
    "# Generate figures for n=1.5 and n=2.5\n",
    "plot_rg_flow(1.5)\n",
    "plot_rg_flow(2.5)"
   ]
  }
 ],
 "metadata": {
  "kernelspec": {
   "display_name": "Python 3 (ipykernel)",
   "language": "python",
   "name": "python3"
  },
  "language_info": {
   "codemirror_mode": {
    "name": "ipython",
    "version": 3
   },
   "file_extension": ".py",
   "mimetype": "text/x-python",
   "name": "python",
   "nbconvert_exporter": "python",
   "pygments_lexer": "ipython3",
   "version": "3.12.2"
  }
 },
 "nbformat": 4,
 "nbformat_minor": 5
}
